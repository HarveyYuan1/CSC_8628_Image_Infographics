{
 "cells": [
  {
   "cell_type": "markdown",
   "metadata": {
    "id": "WwmBvxFNbkqz"
   },
   "source": [
    "# Image Informatics - Lab 3a"
   ]
  },
  {
   "cell_type": "markdown",
   "metadata": {
    "id": "vZHDqG4McBMQ"
   },
   "source": [
    "## Image Sharpening"
   ]
  },
  {
   "cell_type": "markdown",
   "metadata": {
    "id": "-L7Wp2t0cEBB"
   },
   "source": [
    "An alternative edge enhancement filter to the Laplacian of Gaussian (LoG) is the unsharp filter. It operates by subtracting a smoothed (or unsharp) version of an image from the original in order to emphasis or enhance the high frequency information in\n",
    "the image (i.e. the edges).\n",
    "\n",
    "First of all this operator produces an edge image from the original using the following\n",
    "methodology:\n",
    "\n",
    "```\n",
    "I_eges(x,y) = I_orginal(x,y)-I_smoothed(x,y)\n",
    "```\n",
    "\n",
    "for each image location (x,y)."
   ]
  },
  {
   "cell_type": "markdown",
   "metadata": {
    "id": "HRNBlfRzcMRu"
   },
   "source": [
    "We can examine this method further with\n",
    "reference to the following cross-sections of\n",
    "intensity changes in an image (below). The original\n",
    "signal (a) has both high frequency and low\n",
    "frequency components. If we subtract the low\n",
    "frequency component (b) (i.e. a smoothed version\n",
    "of (a)) then we are left with only the high\n",
    "frequency component (c).\n",
    "\n",
    "\n",
    "Note how the edge peaks in (c) correspond to the\n",
    "edges in the original signal (a) and also to the\n",
    "largest points of deviation between (a) and\n",
    "smoothed signal (b).\n",
    "\n",
    "We have successfully identified the edges within\n",
    "this signal by low frequency component (i.e.\n",
    "unsharp) subtraction.\n",
    "\n",
    "\n",
    "![ushf1.gif](data:image/gif;base64,R0lGODlhJQFaAYAAAAAAAP///yH5BAEAAAEALAAAAAAlAVoBAAL+jI+pCesPo5y02ouz3rz72XziSJbmiaZmqLbuC8fyyc72jec6We/+DwzeesKi8Yi8EJPMplO4fEqn1Fa0is1qMdet9wsOdMPksnNsTquB6LX7LWvD5/RV/Y5XyfP8fmTvFygoNlhouAB4qPiWuOho1vgo+RU5aYlVean5lLnpidT5KRoUOmoFgJqqusra6voKG6sKZQoqe4ubq1vKU1u06osYzJY6LGycM/t4hcaLzKXs2IX69zwTLT2mbQ2DvcxAfRDu4Mz9AGw5LtagPm2e4i2pTtgOUf4uXuw5v17jji8C3T5/2P4B7BBPUzt2/uwd5JBwHwJWBvhNfJhBYC3+ixcdYrQQcdS0bR9B6LPGTMK9jSFLHnOJ6CRMEDPByaxZDadGnCp13uTZE+ZOoEE/DiVa9GFLpOcwHmWa9N1SqE3xTaValdtTrDS1/uQKEuVXsGGNbSVLYWWeq2hzsuTYVslbuHHLimJbN+olvHHGMnAb8KTagAP96ghHtyLgCvwQsyiX2G46w4cJLlZQici4x70IT46cbGGIYtRE56vIkGAPzfNaO+43sfWIwWDO+pApWNno1OJQMzxdDzNu4KWLE+/4gbYXvjhwb2bXex3q6NLrBRe++bT06g2ve1CexTYx1dqjv1aM3nVDcvoe706/2jtCReKhWC6Pvt96Qtv+9e+n3l5s2fWnEWSHMEfMdLH91R9y700nH4EAaqYgd8h9V0h9tqgnoH+78dYeOjdRBJuHsIWoG2hd+aGhGi2ugGAJ4DERIxn/xXHhEH28uAaPPNQ421pA5hXkHUMSWeQcPiJJAx1HMplkj5RBieMuVl6JJUVTUhlDall+CWYs/HHJBpk1zWgmfWkKtaZLaLY5yJtwBiLnnDvaqRSeB9Wpp5F9WvWnVIGaw+egjBgqVpiKLspoo44+CmkriE5KaaWWXopppppuymmnnn4Kaqiijkpqqaaeimqqqq7KaquuvgprrLLOSmuttt6Ka6667opVoby64OuveghbRrDENnn+bG3JKrvscs06+6wWxkaLIbWYWHsttlRMq21G3U7B7beSiZtEuOSueC4o6dK4brntqosoLgLCYhO9+chCyrtHmCsWoXhueZedKooE58AZRWrvbW0abA/CVpZpJsP3yktnxIxRLE2g+H7CLzKvDNPxJHCRiBKRFpF8oEeXcdXYkkriV2FWYDn3pBsRjilzr+7VDMdqDSYWcpw7S8xifMOpzBRpLhfNoGArE4Uyxz5XSBJUS2c4tYRIn+ll0JhM7fTWQkUNcr3uPa0U2WY1o1faV6fzB9tu8gx3zuQY9faZbhNtNUB5Q03o30h5HR7dSXssOFWES6F2wXMZ3qtIkhr+urgRwPAdGMDNHb2vQiKaq7kN5+WH0EqV3wZ55uVyRl21UdKX+mwc5eYKd+RN7JvRwnUIoWmtJ5cN56S0/Fvv+RX33mvGEQ82byeePeDrdBa4+E+jI79fdo5BR1pMwV1fvGLReybITqH3xRrVKJ99b+7uszfg9TGXiDPw01t/Ov30PJh71tv7rr8xhU0/HXnOAMknJPydIX782058FGQc/pRmfuNroHmgxzrp9Wwo5xvC5Ah4t3kNDXvvE+HOTPS8DyntHvmT3VEwR4nNdRBZNmtc/fgQrBs1R0qJ46EHZ2iHYtmwVS00yRDnZ6oimu2DDVMi4Fa3sYu5qmO62AD+DDWlQoddSXWwyqIWawcPJ7Ksfx+bWBnNCEYyptFD3aOVGLv1Rm3FEVtztFYdqXXHaOXxWXtsVh+X9cdkBfJYgyRWIYV1yF8lkleL3FUjdfXIXEUSV1+spCUviUlL6muTnOykJz8JylCKcpSkLKUpT4nKVKpylaxspStfCctYynKWtKylLW+Jy5lM8la7tFUva/VLN+ZyPsO0YjGNeUxvJZMLy2RmM8f1TLRFEzPTTEs10XXNEGbTbtvMUVsS5rVovDGY0jrh78DRJf5BZkbkLFz7zsmgF0SPhVZgkgHxM5zc0G9EKNLdgnhnu3fCszMmY2LyDLiQ5xHoNxGcl4P+nKc04w1Ug2hZ44MY+FDxnRBE3ssg+CR0M4Lm5Z4XpFrM2LfPfp4jQBBkHQBvKCN7mvN4R7sO9vwZQHOqZj3/02FMkURS+BwjoRbCqAXnCTOhWmiiCIzLLD7XtQ+ltJ//KyEafUNGrK4QRcP6k3iM1UOKrsmn8cQRU5OhsaUAsXRr7Wo3X/LWssb1rNlsZ6zs2sW5UlOv3oxlFPaA10oxQw6BnRRdCFtL1lhQm34lD2Kw+UqiShCyrpQsXWE61tgt8J993WvBzmik2122sLUpyBWzhbsGcZNL+LPrYa25sNmdtgqDhW1mG3YnuEqzoHELBmm3ALTZ4jC2KvmtBozi687eboS4yjUFcmnbBuGu5bbFfS40oaQi6fopYtnVrpPSZDDvvoxMoWvrcMnbCPEeCr3QsG7b6jLDIxrCvftamnzLt6H7fk1MmctkWIPo3zD9KMAYGzCBm+BFAj8lbwrm7+H2y7f/Cgy4RNPshCmcCPMKlhIZpm/GlgMIDW8YxID18IdBLEUilja66tVYGEDTYheX1iSvCmRkRGwpGzfDxN94sTZ4fGION1fFPh4yqwbpFxznWIhLUPKSmby7u0IiRTGmnIuYWGNGVNmwfO3sW4EcKjCDSsyfarCZz4xmTbqgAAA7)\n",
    "\n"
   ]
  },
  {
   "cell_type": "markdown",
   "metadata": {
    "id": "C02o1JDQkMew"
   },
   "source": [
    "If we take (c) and add it back to the original signal (a) we end up with the edge peaks super-imposed at their correct position and a larger localised change in the signal at both of these points. We show the result for our example (a) + (c) in (d) below.\n",
    "\n",
    "![ushf2.png](data:image/png;base64,iVBORw0KGgoAAAANSUhEUgAAAQAAAABhAQMAAAADY+1uAAABhGlDQ1BJQ0MgcHJvZmlsZQAAKJF9kT1Iw0AcxV9bpVIqCnYQcYhQnSyIXzhqFYpQIdQKrTqYXPoFTRqSFBdHwbXg4Mdi1cHFWVcHV0EQ/ABxcnRSdJES/5cUWsR4cNyPd/ced+8Af73MVLNjDFA1y0gl4kImuyoEXxFGCL2YwpDETH1OFJPwHF/38PH1LsazvM/9ObqVnMkAn0A8y3TDIt4gnt60dM77xBFWlBTic+JRgy5I/Mh12eU3zgWH/TwzYqRT88QRYqHQxnIbs6KhEk8SRxVVo3x/xmWF8xZntVxlzXvyF4Zz2soy12kOIoFFLEGEABlVlFCGhRitGikmUrQf9/APOH6RXDK5SmDkWEAFKiTHD/4Hv7s18xPjblI4DnS+2PbHMBDcBRo12/4+tu3GCRB4Bq60lr9SB2Y+Sa+1tOgR0LMNXFy3NHkPuNwB+p90yZAcKUDTn88D72f0TVmg7xYIrbm9Nfdx+gCkqavkDXBwCIwUKHvd491d7b39e6bZ3w+f8XK50dsCSwAAAAZQTFRFIcxVAAAAuaGVFgAAAAF0Uk5TAEDm2GYAAAABYktHRACIBR1IAAAACXBIWXMAAAsTAAALEwEAmpwYAAAAB3RJTUUH5AwKEDcenWLAdgAAAhJJREFUSMe11jFLw0AUAOBLE5KltB07SJsidI4I2iH0J/Q3JBacHCKCdhA87ar+BcEf4eJyVmkX8TckVujioFSwgxgvqaWXXPLeUHrQpXw53nt39+4IJchYDyh/IKA+Q0BrAwEeBpwSAnwdAQwF6opAQQFdFahUoTAgOGAgMHiiIOB19EHAl8oBQZGQHgj4bmiDoMV3JUWAGkbjNwd4/HcGAR85F2IZM4FKEWBgoIydzRoGbAz0JFDRHPGfjwxgimXwJWBqlpglk8FXJT/LGFxW8pOIgKuJYJYFqvkxSjOkY4xAQwRlggRpZ4EvKz/GuJLEzI9xDpy83SKvZh1r5jYGZgiQY0wBOcYUqGM3zikGZghQMKD6CIgayzJT25RA1Jr07uJSeDajlkjTMeqNBXjioJAA8eyGcvh4F1w99JnvDoNBAsT7UX2YutPjzrDDes1Jdy8B4joqwZZ7u7M/PGB2s+smwXytP63gYvdt9M5qzT3nNQHic60dbgcXO9qwyK43B90EmFdAb2y7/V1tVGJPzUIyhvmZMcb30/74ZTzyf04mR98iWJ6ZglB5mtW9/kHcWGiiiS8vpawZvMw3zE3c+MMfqYmnQJi5o4Xl5imqDAL8c4OC7yhnEXoe8IgOA4uUMFCEQYtswKBKqiuCIrHWDzwYlIgDA31lYBAGA/UcAcqYIg/vEHuZt9f2+A+BEfW0PyiF4D2CGPkYAAAAAElFTkSuQmCC)"
   ]
  },
  {
   "cell_type": "markdown",
   "metadata": {
    "id": "6V8OaYTttK-2"
   },
   "source": [
    "So (d) will appear to be a signal/image with both the low frequency characteristics of (a) and\n",
    "sharper enhanced edges that originate from the 'unsharp' subtraction technique.\n",
    "Extending this concept back to our earlier notation regarding images we now have:\n",
    "\n",
    "\n",
    "```\n",
    "I_enhanced(x,y) = I_original(x,y) + k (I_edges(x,y))\n",
    "\n",
    "I_enhanced(x,y) = I_original(x,y) + k (I_original(x,y) - I_smoothed(x,y))\n",
    "```\n",
    "\n",
    "for each image location (x,y) and a given constant scaling factor k. k ensures the resulting image is\n",
    "within the proper range and the edges are not 'over sharp' in the resulting image. Generally k=0.2->0.7 is acceptable depending on the level of sharpening required.\n",
    "\n",
    "We can apply this to real images by using any of the low-pass filtering (fourier) or spatial\n",
    "convolution techniques (e.g. Gaussian blur) that will produce a low frequency 'unsharp' version of\n",
    "an original image.\n"
   ]
  },
  {
   "cell_type": "markdown",
   "metadata": {
    "id": "scb8L3hLr_55"
   },
   "source": [
    "**Tasks:**\n",
    "1.   Implement unsharp filter for:\n",
    "  *   Gray images.\n",
    "  *   Color images.\n",
    "2.   Extend your program to compare both the unsharp filtering method you have just\n",
    "implemented and LoG edge sharpening on the same image.\n",
    "\n",
    "\n",
    "\n",
    "\n",
    "\n"
   ]
  }
 ],
 "metadata": {
  "colab": {
   "authorship_tag": "ABX9TyP8CozVfODFxP26uUMLNtcT",
   "collapsed_sections": [],
   "name": "image_informatics_lab_2.ipynb",
   "provenance": []
  },
  "kernelspec": {
   "display_name": "Python 3 (ipykernel)",
   "language": "python",
   "name": "python3"
  },
  "language_info": {
   "codemirror_mode": {
    "name": "ipython",
    "version": 3
   },
   "file_extension": ".py",
   "mimetype": "text/x-python",
   "name": "python",
   "nbconvert_exporter": "python",
   "pygments_lexer": "ipython3",
   "version": "3.8.10"
  }
 },
 "nbformat": 4,
 "nbformat_minor": 1
}
